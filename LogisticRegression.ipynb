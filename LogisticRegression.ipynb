{
 "cells": [
  {
   "cell_type": "markdown",
   "id": "9358a565-9ac5-4c71-bbb7-c21cccfb8540",
   "metadata": {},
   "source": [
    "Import Library"
   ]
  },
  {
   "cell_type": "code",
   "execution_count": 1,
   "id": "41f010cb-f0c3-488a-b7c7-f5e87dda7e45",
   "metadata": {},
   "outputs": [],
   "source": [
    "import pandas as pd\n",
    "import numpy as np\n",
    "import gc\n",
    "import matplotlib.pyplot as plt\n",
    "from sklearn.linear_model import LogisticRegression \n",
    "from sklearn.model_selection import train_test_split, RandomizedSearchCV, StratifiedKFold\n",
    "from sklearn.metrics import roc_curve, auc\n",
    "from scipy.stats import loguniform, uniform \n"
   ]
  },
  {
   "cell_type": "markdown",
   "id": "2ad03e42-47d2-4ecf-a03b-6abf2a401da8",
   "metadata": {},
   "source": [
    "Load Data"
   ]
  },
  {
   "cell_type": "code",
   "execution_count": 2,
   "id": "4607a764-2fc1-44ed-a06f-f65ebf9366ca",
   "metadata": {},
   "outputs": [
    {
     "name": "stdout",
     "output_type": "stream",
     "text": [
      "train_transformed, test_transformed, dan test_ids berhasil dimuat.\n"
     ]
    },
    {
     "data": {
      "text/plain": [
       "0"
      ]
     },
     "execution_count": 2,
     "metadata": {},
     "output_type": "execute_result"
    }
   ],
   "source": [
    "try:\n",
    "    train_transformed = pd.read_csv('train_transformed.csv')\n",
    "    test_transformed = pd.read_csv('test_transformed.csv')\n",
    "    application_test_df = pd.read_csv('application_test.csv') \n",
    "    test_ids = application_test_df['SK_ID_CURR']\n",
    "    print(\"train_transformed, test_transformed, dan test_ids berhasil dimuat.\")\n",
    "except FileNotFoundError:\n",
    "    print(\"WARNING: File transformed tidak ditemukan\")\n",
    "\n",
    "gc.collect()"
   ]
  },
  {
   "cell_type": "code",
   "execution_count": 3,
   "id": "411bc185-4b25-4646-baf7-6c597c72169c",
   "metadata": {},
   "outputs": [
    {
     "name": "stdout",
     "output_type": "stream",
     "text": [
      "Loaded train_transformed shape: (29829, 612)\n",
      "Loaded test_transformed shape: (48744, 611)\n"
     ]
    }
   ],
   "source": [
    "print(f\"Loaded train_transformed shape: {train_transformed.shape}\")\n",
    "print(f\"Loaded test_transformed shape: {test_transformed.shape}\")"
   ]
  },
  {
   "cell_type": "markdown",
   "id": "b2623bde-83c5-42e8-bdd7-b1937132c208",
   "metadata": {},
   "source": [
    "##### Definisikan Fitur (X) dan Target (y)"
   ]
  },
  {
   "cell_type": "code",
   "execution_count": 4,
   "id": "4ee0c068-82e3-40ab-bb22-e6e3b13433e8",
   "metadata": {},
   "outputs": [
    {
     "name": "stdout",
     "output_type": "stream",
     "text": [
      "\n",
      "--- 1. Mempersiapkan Fitur dan Target (X dan y) ---\n",
      "X_train initial shape: (29829, 610)\n",
      "y_train shape: (29829,)\n",
      "X_test initial shape: (48744, 610)\n"
     ]
    },
    {
     "data": {
      "text/plain": [
       "0"
      ]
     },
     "execution_count": 4,
     "metadata": {},
     "output_type": "execute_result"
    }
   ],
   "source": [
    "print(\"\\n--- 1. Mempersiapkan Fitur dan Target (X dan y) ---\")\n",
    "base_feature_cols = [col for col in train_transformed.columns if col not in ['SK_ID_CURR', 'TARGET']]\n",
    "\n",
    "X_train = train_transformed[base_feature_cols]\n",
    "y_train = train_transformed['TARGET']\n",
    "X_test = test_transformed[base_feature_cols]\n",
    "\n",
    "print(f\"X_train initial shape: {X_train.shape}\")\n",
    "print(f\"y_train shape: {y_train.shape}\")\n",
    "print(f\"X_test initial shape: {X_test.shape}\")\n",
    "gc.collect()\n"
   ]
  },
  {
   "cell_type": "markdown",
   "id": "4c6ea106-02ae-4028-a3f1-ea890b14b573",
   "metadata": {},
   "source": [
    "##### Validasi Akhir & Optimasi Tipe Data Fitur"
   ]
  },
  {
   "cell_type": "code",
   "execution_count": 6,
   "id": "e650c889-79e8-4cf5-bb5e-fdba5727d7f5",
   "metadata": {},
   "outputs": [
    {
     "name": "stdout",
     "output_type": "stream",
     "text": [
      "\n",
      "--- 2. Validasi Akhir dan Optimasi Tipe Data Fitur ---\n",
      "Jumlah kolom numerik di X_train awal: 594\n",
      "Jumlah kolom numerik di X_test awal: 594\n",
      "Jumlah kolom fitur umum (final_feature_columns): 594\n",
      "X_train shape setelah filter final_feature_columns: (29829, 594)\n",
      "X_test shape setelah filter final_feature_columns: (48744, 594)\n",
      "Tipe data dioptimalkan\n"
     ]
    },
    {
     "data": {
      "text/plain": [
       "0"
      ]
     },
     "execution_count": 6,
     "metadata": {},
     "output_type": "execute_result"
    }
   ],
   "source": [
    "print(\"\\n--- 2. Validasi Akhir dan Optimasi Tipe Data Fitur ---\")\n",
    "\n",
    "# Identifikasi kolom numerik awal di X_train dan X_test\n",
    "numeric_cols_train_initial = X_train.select_dtypes(include=[np.number]).columns.tolist()\n",
    "numeric_cols_test_initial = X_test.select_dtypes(include=[np.number]).columns.tolist()\n",
    "\n",
    "# Temukan set AKHIR dari kolom numerik umum yang dimiliki KEDUA dataset\n",
    "final_feature_columns = list(set(numeric_cols_train_initial) & set(numeric_cols_test_initial))\n",
    "\n",
    "# Debugging: Periksa jumlah kolom yang umum\n",
    "print(f\"Jumlah kolom numerik di X_train awal: {len(numeric_cols_train_initial)}\")\n",
    "print(f\"Jumlah kolom numerik di X_test awal: {len(numeric_cols_test_initial)}\")\n",
    "print(f\"Jumlah kolom fitur umum (final_feature_columns): {len(final_feature_columns)}\")\n",
    "\n",
    "# Filter X_train dan X_test untuk hanya menyertakan kolom-kolom ini\n",
    "X_train = X_train[final_feature_columns]\n",
    "X_test = X_test[final_feature_columns]\n",
    "\n",
    "# Pengecekan Kritis: Pastikan jumlah kolom sama setelah filter\n",
    "if X_train.shape[1] != X_test.shape[1]:\n",
    "    raise ValueError(\"ERROR KRITIS: Jumlah kolom X_train dan X_test tidak sama setelah filter!\")\n",
    "if X_train.shape[1] != len(final_feature_columns):\n",
    "    raise ValueError(\"ERROR KRITIS: Jumlah kolom X_train tidak cocok dengan daftar final_feature_columns!\")\n",
    "\n",
    "print(f\"X_train shape setelah filter final_feature_columns: {X_train.shape}\")\n",
    "print(f\"X_test shape setelah filter final_feature_columns: {X_test.shape}\")\n",
    "\n",
    "\n",
    "# Optimalkan Tipe Data Akhir\n",
    "for col in X_train.columns: # Iterasi melalui kolom X_train, yang sekarang adalah final_feature_columns\n",
    "    X_train[col] = X_train[col].astype(np.float32)\n",
    "    X_test[col] = X_test[col].astype(np.float32)\n",
    "\n",
    "print(\"Tipe data dioptimalkan\")\n",
    "gc.collect()"
   ]
  },
  {
   "cell_type": "markdown",
   "id": "3a039813-6598-4335-abaf-539c01fe31e2",
   "metadata": {},
   "source": [
    "##### 3. Mengambil Sample Data untuk Tuning"
   ]
  },
  {
   "cell_type": "code",
   "execution_count": 7,
   "id": "4fd76fc9-1a06-45ee-83ee-8b5d94117563",
   "metadata": {},
   "outputs": [
    {
     "name": "stdout",
     "output_type": "stream",
     "text": [
      "\n",
      "--- 3. Mengambil Sampel Data untuk Hyperparameter Tuning ---\n",
      "Shape X_train_sample untuk tuning: (14914, 594)\n"
     ]
    },
    {
     "data": {
      "text/plain": [
       "0"
      ]
     },
     "execution_count": 7,
     "metadata": {},
     "output_type": "execute_result"
    }
   ],
   "source": [
    "print(f\"\\n--- 3. Mengambil Sampel Data untuk Hyperparameter Tuning ---\")\n",
    "sample_fraction_for_tuning = 0.5 \n",
    "\n",
    "X_train_sample, _, y_train_sample, _ = train_test_split(\n",
    "    X_train, y_train, train_size=sample_fraction_for_tuning, stratify=y_train, random_state=42\n",
    ")\n",
    "print(f\"Shape X_train_sample untuk tuning: {X_train_sample.shape}\")\n",
    "gc.collect()"
   ]
  },
  {
   "cell_type": "markdown",
   "id": "dfc61479-c3a4-4cc0-b712-0e9a1236f821",
   "metadata": {},
   "source": [
    "##### 4. Inisialisasi Model Logistic Regression & Setup Tuning"
   ]
  },
  {
   "cell_type": "code",
   "execution_count": 8,
   "id": "a8abf1fb-b2eb-402e-be56-e7d47029d389",
   "metadata": {},
   "outputs": [
    {
     "name": "stdout",
     "output_type": "stream",
     "text": [
      "\n",
      "--- 4. Inisialisasi Model Logistic Regression & Setup Tuning ---\n",
      "Setup tuning Logistic Regression selesai.\n"
     ]
    },
    {
     "data": {
      "text/plain": [
       "0"
      ]
     },
     "execution_count": 8,
     "metadata": {},
     "output_type": "execute_result"
    }
   ],
   "source": [
    "print(\"\\n--- 4. Inisialisasi Model Logistic Regression & Setup Tuning ---\")\n",
    "\n",
    "log_reg_base = LogisticRegression(\n",
    "    solver='saga',\n",
    "    penalty='elasticnet', \n",
    "    random_state=42,\n",
    "    n_jobs=-1, \n",
    "    max_iter=1000, \n",
    "    class_weight='balanced' \n",
    ")\n",
    "\n",
    "param_distributions_log_reg = {\n",
    "    'C': loguniform(0.001, 100),\n",
    "    'l1_ratio': uniform(0, 1) \n",
    "}\n",
    "\n",
    "# Strategi Cross-Validation\n",
    "cv_strategy = StratifiedKFold(n_splits=5, shuffle=True, random_state=42)\n",
    "\n",
    "random_search_log_reg = RandomizedSearchCV(estimator=log_reg_base, param_distributions=param_distributions_log_reg,\n",
    "                                       n_iter=20, \n",
    "                                       scoring='roc_auc',\n",
    "                                       cv=cv_strategy,\n",
    "                                       verbose=2, \n",
    "                                       random_state=42,\n",
    "                                       n_jobs=1) \n",
    "\n",
    "\n",
    "print(\"Setup tuning Logistic Regression selesai.\")\n",
    "gc.collect()"
   ]
  },
  {
   "cell_type": "markdown",
   "id": "218589a9-d821-409f-9404-ace696dc1aca",
   "metadata": {},
   "source": [
    "##### 5. Melakukan Hyperparameter Tuning (Fit RandomizedSearchCV)"
   ]
  },
  {
   "cell_type": "code",
   "execution_count": 9,
   "id": "2ba81e43-eaa4-4c45-b52f-6e2c1a313ef9",
   "metadata": {},
   "outputs": [
    {
     "name": "stdout",
     "output_type": "stream",
     "text": [
      "\n",
      "--- 5. Memulai Hyperparameter Tuning Logistic Regression (Random Search) ---\n",
      "Shape X_train_fit_for_tuning: (7457, 594)\n",
      "Shape X_val_fit_for_tuning: (7457, 594)\n"
     ]
    }
   ],
   "source": [
    "print(\"\\n--- 5. Memulai Hyperparameter Tuning Logistic Regression (Random Search) ---\")\n",
    "\n",
    "X_train_fit_for_tuning, X_val_fit_for_tuning, y_train_fit_for_tuning, y_val_fit_for_tuning = train_test_split(\n",
    "    X_train_sample, y_train_sample, test_size=0.5, random_state=42, stratify=y_train_sample\n",
    ")\n",
    "print(f\"Shape X_train_fit_for_tuning: {X_train_fit_for_tuning.shape}\")\n",
    "print(f\"Shape X_val_fit_for_tuning: {X_val_fit_for_tuning.shape}\")"
   ]
  },
  {
   "cell_type": "code",
   "execution_count": 10,
   "id": "6d45f5d9-3db6-4233-8887-dccbf802404a",
   "metadata": {},
   "outputs": [
    {
     "name": "stdout",
     "output_type": "stream",
     "text": [
      "Fitting 5 folds for each of 20 candidates, totalling 100 fits\n"
     ]
    },
    {
     "name": "stderr",
     "output_type": "stream",
     "text": [
      "C:\\Users\\LENOVO\\AppData\\Local\\Programs\\Python\\Python312\\Lib\\site-packages\\sklearn\\linear_model\\_sag.py:349: ConvergenceWarning: The max_iter was reached which means the coef_ did not converge\n",
      "  warnings.warn(\n"
     ]
    },
    {
     "name": "stdout",
     "output_type": "stream",
     "text": [
      "[CV] END ..C=0.0745934328572655, l1_ratio=0.9507143064099162; total time= 1.7min\n"
     ]
    },
    {
     "name": "stderr",
     "output_type": "stream",
     "text": [
      "C:\\Users\\LENOVO\\AppData\\Local\\Programs\\Python\\Python312\\Lib\\site-packages\\sklearn\\linear_model\\_sag.py:349: ConvergenceWarning: The max_iter was reached which means the coef_ did not converge\n",
      "  warnings.warn(\n"
     ]
    },
    {
     "name": "stdout",
     "output_type": "stream",
     "text": [
      "[CV] END ..C=0.0745934328572655, l1_ratio=0.9507143064099162; total time= 1.6min\n"
     ]
    },
    {
     "name": "stderr",
     "output_type": "stream",
     "text": [
      "C:\\Users\\LENOVO\\AppData\\Local\\Programs\\Python\\Python312\\Lib\\site-packages\\sklearn\\linear_model\\_sag.py:349: ConvergenceWarning: The max_iter was reached which means the coef_ did not converge\n",
      "  warnings.warn(\n"
     ]
    },
    {
     "name": "stdout",
     "output_type": "stream",
     "text": [
      "[CV] END ..C=0.0745934328572655, l1_ratio=0.9507143064099162; total time= 1.6min\n"
     ]
    },
    {
     "name": "stderr",
     "output_type": "stream",
     "text": [
      "C:\\Users\\LENOVO\\AppData\\Local\\Programs\\Python\\Python312\\Lib\\site-packages\\sklearn\\linear_model\\_sag.py:349: ConvergenceWarning: The max_iter was reached which means the coef_ did not converge\n",
      "  warnings.warn(\n"
     ]
    },
    {
     "name": "stdout",
     "output_type": "stream",
     "text": [
      "[CV] END ..C=0.0745934328572655, l1_ratio=0.9507143064099162; total time= 1.6min\n"
     ]
    },
    {
     "name": "stderr",
     "output_type": "stream",
     "text": [
      "C:\\Users\\LENOVO\\AppData\\Local\\Programs\\Python\\Python312\\Lib\\site-packages\\sklearn\\linear_model\\_sag.py:349: ConvergenceWarning: The max_iter was reached which means the coef_ did not converge\n",
      "  warnings.warn(\n"
     ]
    },
    {
     "name": "stdout",
     "output_type": "stream",
     "text": [
      "[CV] END ..C=0.0745934328572655, l1_ratio=0.9507143064099162; total time= 1.6min\n"
     ]
    },
    {
     "name": "stderr",
     "output_type": "stream",
     "text": [
      "C:\\Users\\LENOVO\\AppData\\Local\\Programs\\Python\\Python312\\Lib\\site-packages\\sklearn\\linear_model\\_sag.py:349: ConvergenceWarning: The max_iter was reached which means the coef_ did not converge\n",
      "  warnings.warn(\n"
     ]
    },
    {
     "name": "stdout",
     "output_type": "stream",
     "text": [
      "[CV] END ..C=4.5705630998014515, l1_ratio=0.5986584841970366; total time= 1.7min\n"
     ]
    },
    {
     "name": "stderr",
     "output_type": "stream",
     "text": [
      "C:\\Users\\LENOVO\\AppData\\Local\\Programs\\Python\\Python312\\Lib\\site-packages\\sklearn\\linear_model\\_sag.py:349: ConvergenceWarning: The max_iter was reached which means the coef_ did not converge\n",
      "  warnings.warn(\n"
     ]
    },
    {
     "name": "stdout",
     "output_type": "stream",
     "text": [
      "[CV] END ..C=4.5705630998014515, l1_ratio=0.5986584841970366; total time= 1.5min\n"
     ]
    },
    {
     "name": "stderr",
     "output_type": "stream",
     "text": [
      "C:\\Users\\LENOVO\\AppData\\Local\\Programs\\Python\\Python312\\Lib\\site-packages\\sklearn\\linear_model\\_sag.py:349: ConvergenceWarning: The max_iter was reached which means the coef_ did not converge\n",
      "  warnings.warn(\n"
     ]
    },
    {
     "name": "stdout",
     "output_type": "stream",
     "text": [
      "[CV] END ..C=4.5705630998014515, l1_ratio=0.5986584841970366; total time= 1.5min\n"
     ]
    },
    {
     "name": "stderr",
     "output_type": "stream",
     "text": [
      "C:\\Users\\LENOVO\\AppData\\Local\\Programs\\Python\\Python312\\Lib\\site-packages\\sklearn\\linear_model\\_sag.py:349: ConvergenceWarning: The max_iter was reached which means the coef_ did not converge\n",
      "  warnings.warn(\n"
     ]
    },
    {
     "name": "stdout",
     "output_type": "stream",
     "text": [
      "[CV] END ..C=4.5705630998014515, l1_ratio=0.5986584841970366; total time= 1.5min\n"
     ]
    },
    {
     "name": "stderr",
     "output_type": "stream",
     "text": [
      "C:\\Users\\LENOVO\\AppData\\Local\\Programs\\Python\\Python312\\Lib\\site-packages\\sklearn\\linear_model\\_sag.py:349: ConvergenceWarning: The max_iter was reached which means the coef_ did not converge\n",
      "  warnings.warn(\n"
     ]
    },
    {
     "name": "stdout",
     "output_type": "stream",
     "text": [
      "[CV] END ..C=4.5705630998014515, l1_ratio=0.5986584841970366; total time= 1.5min\n",
      "[CV] END C=0.006026889128682512, l1_ratio=0.15599452033620265; total time=  12.7s\n",
      "[CV] END C=0.006026889128682512, l1_ratio=0.15599452033620265; total time=  13.0s\n",
      "[CV] END C=0.006026889128682512, l1_ratio=0.15599452033620265; total time=  13.2s\n",
      "[CV] END C=0.006026889128682512, l1_ratio=0.15599452033620265; total time=  13.7s\n",
      "[CV] END C=0.006026889128682512, l1_ratio=0.15599452033620265; total time=  13.4s\n",
      "[CV] END C=0.0019517224641449498, l1_ratio=0.8661761457749352; total time=   3.7s\n",
      "[CV] END C=0.0019517224641449498, l1_ratio=0.8661761457749352; total time=   3.5s\n",
      "[CV] END C=0.0019517224641449498, l1_ratio=0.8661761457749352; total time=   3.6s\n",
      "[CV] END C=0.0019517224641449498, l1_ratio=0.8661761457749352; total time=   2.8s\n",
      "[CV] END C=0.0019517224641449498, l1_ratio=0.8661761457749352; total time=   3.2s\n"
     ]
    },
    {
     "name": "stderr",
     "output_type": "stream",
     "text": [
      "C:\\Users\\LENOVO\\AppData\\Local\\Programs\\Python\\Python312\\Lib\\site-packages\\sklearn\\linear_model\\_sag.py:349: ConvergenceWarning: The max_iter was reached which means the coef_ did not converge\n",
      "  warnings.warn(\n"
     ]
    },
    {
     "name": "stdout",
     "output_type": "stream",
     "text": [
      "[CV] END ..C=1.0129197956845732, l1_ratio=0.7080725777960455; total time= 1.5min\n"
     ]
    },
    {
     "name": "stderr",
     "output_type": "stream",
     "text": [
      "C:\\Users\\LENOVO\\AppData\\Local\\Programs\\Python\\Python312\\Lib\\site-packages\\sklearn\\linear_model\\_sag.py:349: ConvergenceWarning: The max_iter was reached which means the coef_ did not converge\n",
      "  warnings.warn(\n"
     ]
    },
    {
     "name": "stdout",
     "output_type": "stream",
     "text": [
      "[CV] END ..C=1.0129197956845732, l1_ratio=0.7080725777960455; total time= 1.5min\n"
     ]
    },
    {
     "name": "stderr",
     "output_type": "stream",
     "text": [
      "C:\\Users\\LENOVO\\AppData\\Local\\Programs\\Python\\Python312\\Lib\\site-packages\\sklearn\\linear_model\\_sag.py:349: ConvergenceWarning: The max_iter was reached which means the coef_ did not converge\n",
      "  warnings.warn(\n"
     ]
    },
    {
     "name": "stdout",
     "output_type": "stream",
     "text": [
      "[CV] END ..C=1.0129197956845732, l1_ratio=0.7080725777960455; total time= 1.5min\n"
     ]
    },
    {
     "name": "stderr",
     "output_type": "stream",
     "text": [
      "C:\\Users\\LENOVO\\AppData\\Local\\Programs\\Python\\Python312\\Lib\\site-packages\\sklearn\\linear_model\\_sag.py:349: ConvergenceWarning: The max_iter was reached which means the coef_ did not converge\n",
      "  warnings.warn(\n"
     ]
    },
    {
     "name": "stdout",
     "output_type": "stream",
     "text": [
      "[CV] END ..C=1.0129197956845732, l1_ratio=0.7080725777960455; total time= 1.4min\n"
     ]
    },
    {
     "name": "stderr",
     "output_type": "stream",
     "text": [
      "C:\\Users\\LENOVO\\AppData\\Local\\Programs\\Python\\Python312\\Lib\\site-packages\\sklearn\\linear_model\\_sag.py:349: ConvergenceWarning: The max_iter was reached which means the coef_ did not converge\n",
      "  warnings.warn(\n"
     ]
    },
    {
     "name": "stdout",
     "output_type": "stream",
     "text": [
      "[CV] END ..C=1.0129197956845732, l1_ratio=0.7080725777960455; total time= 1.5min\n",
      "[CV] END C=0.001267425589893723, l1_ratio=0.9699098521619943; total time=   3.0s\n",
      "[CV] END C=0.001267425589893723, l1_ratio=0.9699098521619943; total time=   3.6s\n",
      "[CV] END C=0.001267425589893723, l1_ratio=0.9699098521619943; total time=   3.2s\n",
      "[CV] END C=0.001267425589893723, l1_ratio=0.9699098521619943; total time=   2.8s\n",
      "[CV] END C=0.001267425589893723, l1_ratio=0.9699098521619943; total time=   3.0s\n"
     ]
    },
    {
     "name": "stderr",
     "output_type": "stream",
     "text": [
      "C:\\Users\\LENOVO\\AppData\\Local\\Programs\\Python\\Python312\\Lib\\site-packages\\sklearn\\linear_model\\_sag.py:349: ConvergenceWarning: The max_iter was reached which means the coef_ did not converge\n",
      "  warnings.warn(\n"
     ]
    },
    {
     "name": "stdout",
     "output_type": "stream",
     "text": [
      "[CV] END .C=14.528246637516036, l1_ratio=0.21233911067827616; total time= 1.5min\n"
     ]
    },
    {
     "name": "stderr",
     "output_type": "stream",
     "text": [
      "C:\\Users\\LENOVO\\AppData\\Local\\Programs\\Python\\Python312\\Lib\\site-packages\\sklearn\\linear_model\\_sag.py:349: ConvergenceWarning: The max_iter was reached which means the coef_ did not converge\n",
      "  warnings.warn(\n"
     ]
    },
    {
     "name": "stdout",
     "output_type": "stream",
     "text": [
      "[CV] END .C=14.528246637516036, l1_ratio=0.21233911067827616; total time= 1.5min\n"
     ]
    },
    {
     "name": "stderr",
     "output_type": "stream",
     "text": [
      "C:\\Users\\LENOVO\\AppData\\Local\\Programs\\Python\\Python312\\Lib\\site-packages\\sklearn\\linear_model\\_sag.py:349: ConvergenceWarning: The max_iter was reached which means the coef_ did not converge\n",
      "  warnings.warn(\n"
     ]
    },
    {
     "name": "stdout",
     "output_type": "stream",
     "text": [
      "[CV] END .C=14.528246637516036, l1_ratio=0.21233911067827616; total time= 1.6min\n"
     ]
    },
    {
     "name": "stderr",
     "output_type": "stream",
     "text": [
      "C:\\Users\\LENOVO\\AppData\\Local\\Programs\\Python\\Python312\\Lib\\site-packages\\sklearn\\linear_model\\_sag.py:349: ConvergenceWarning: The max_iter was reached which means the coef_ did not converge\n",
      "  warnings.warn(\n"
     ]
    },
    {
     "name": "stdout",
     "output_type": "stream",
     "text": [
      "[CV] END .C=14.528246637516036, l1_ratio=0.21233911067827616; total time= 1.6min\n"
     ]
    },
    {
     "name": "stderr",
     "output_type": "stream",
     "text": [
      "C:\\Users\\LENOVO\\AppData\\Local\\Programs\\Python\\Python312\\Lib\\site-packages\\sklearn\\linear_model\\_sag.py:349: ConvergenceWarning: The max_iter was reached which means the coef_ did not converge\n",
      "  warnings.warn(\n"
     ]
    },
    {
     "name": "stdout",
     "output_type": "stream",
     "text": [
      "[CV] END .C=14.528246637516036, l1_ratio=0.21233911067827616; total time= 1.5min\n",
      "[CV] END C=0.008111941985431923, l1_ratio=0.18340450985343382; total time=  15.7s\n",
      "[CV] END C=0.008111941985431923, l1_ratio=0.18340450985343382; total time=  16.3s\n",
      "[CV] END C=0.008111941985431923, l1_ratio=0.18340450985343382; total time=  14.9s\n",
      "[CV] END C=0.008111941985431923, l1_ratio=0.18340450985343382; total time=  16.2s\n",
      "[CV] END C=0.008111941985431923, l1_ratio=0.18340450985343382; total time=  14.8s\n",
      "[CV] END C=0.033205591037519584, l1_ratio=0.5247564316322378; total time=  48.7s\n",
      "[CV] END C=0.033205591037519584, l1_ratio=0.5247564316322378; total time=  55.9s\n",
      "[CV] END C=0.033205591037519584, l1_ratio=0.5247564316322378; total time=  35.8s\n",
      "[CV] END C=0.033205591037519584, l1_ratio=0.5247564316322378; total time=  53.2s\n",
      "[CV] END C=0.033205591037519584, l1_ratio=0.5247564316322378; total time=  54.7s\n"
     ]
    },
    {
     "name": "stderr",
     "output_type": "stream",
     "text": [
      "C:\\Users\\LENOVO\\AppData\\Local\\Programs\\Python\\Python312\\Lib\\site-packages\\sklearn\\linear_model\\_sag.py:349: ConvergenceWarning: The max_iter was reached which means the coef_ did not converge\n",
      "  warnings.warn(\n"
     ]
    },
    {
     "name": "stdout",
     "output_type": "stream",
     "text": [
      "[CV] END .C=0.14445251022763064, l1_ratio=0.2912291401980419; total time= 1.5min\n"
     ]
    },
    {
     "name": "stderr",
     "output_type": "stream",
     "text": [
      "C:\\Users\\LENOVO\\AppData\\Local\\Programs\\Python\\Python312\\Lib\\site-packages\\sklearn\\linear_model\\_sag.py:349: ConvergenceWarning: The max_iter was reached which means the coef_ did not converge\n",
      "  warnings.warn(\n"
     ]
    },
    {
     "name": "stdout",
     "output_type": "stream",
     "text": [
      "[CV] END .C=0.14445251022763064, l1_ratio=0.2912291401980419; total time= 1.4min\n"
     ]
    },
    {
     "name": "stderr",
     "output_type": "stream",
     "text": [
      "C:\\Users\\LENOVO\\AppData\\Local\\Programs\\Python\\Python312\\Lib\\site-packages\\sklearn\\linear_model\\_sag.py:349: ConvergenceWarning: The max_iter was reached which means the coef_ did not converge\n",
      "  warnings.warn(\n"
     ]
    },
    {
     "name": "stdout",
     "output_type": "stream",
     "text": [
      "[CV] END .C=0.14445251022763064, l1_ratio=0.2912291401980419; total time= 1.4min\n"
     ]
    },
    {
     "name": "stderr",
     "output_type": "stream",
     "text": [
      "C:\\Users\\LENOVO\\AppData\\Local\\Programs\\Python\\Python312\\Lib\\site-packages\\sklearn\\linear_model\\_sag.py:349: ConvergenceWarning: The max_iter was reached which means the coef_ did not converge\n",
      "  warnings.warn(\n"
     ]
    },
    {
     "name": "stdout",
     "output_type": "stream",
     "text": [
      "[CV] END .C=0.14445251022763064, l1_ratio=0.2912291401980419; total time= 1.4min\n"
     ]
    },
    {
     "name": "stderr",
     "output_type": "stream",
     "text": [
      "C:\\Users\\LENOVO\\AppData\\Local\\Programs\\Python\\Python312\\Lib\\site-packages\\sklearn\\linear_model\\_sag.py:349: ConvergenceWarning: The max_iter was reached which means the coef_ did not converge\n",
      "  warnings.warn(\n"
     ]
    },
    {
     "name": "stdout",
     "output_type": "stream",
     "text": [
      "[CV] END .C=0.14445251022763064, l1_ratio=0.2912291401980419; total time=42.1min\n"
     ]
    },
    {
     "name": "stderr",
     "output_type": "stream",
     "text": [
      "C:\\Users\\LENOVO\\AppData\\Local\\Programs\\Python\\Python312\\Lib\\site-packages\\sklearn\\linear_model\\_sag.py:349: ConvergenceWarning: The max_iter was reached which means the coef_ did not converge\n",
      "  warnings.warn(\n"
     ]
    },
    {
     "name": "stdout",
     "output_type": "stream",
     "text": [
      "[CV] END .C=1.1462107403425035, l1_ratio=0.13949386065204183; total time= 1.5min\n"
     ]
    },
    {
     "name": "stderr",
     "output_type": "stream",
     "text": [
      "C:\\Users\\LENOVO\\AppData\\Local\\Programs\\Python\\Python312\\Lib\\site-packages\\sklearn\\linear_model\\_sag.py:349: ConvergenceWarning: The max_iter was reached which means the coef_ did not converge\n",
      "  warnings.warn(\n"
     ]
    },
    {
     "name": "stdout",
     "output_type": "stream",
     "text": [
      "[CV] END .C=1.1462107403425035, l1_ratio=0.13949386065204183; total time= 1.6min\n"
     ]
    },
    {
     "name": "stderr",
     "output_type": "stream",
     "text": [
      "C:\\Users\\LENOVO\\AppData\\Local\\Programs\\Python\\Python312\\Lib\\site-packages\\sklearn\\linear_model\\_sag.py:349: ConvergenceWarning: The max_iter was reached which means the coef_ did not converge\n",
      "  warnings.warn(\n"
     ]
    },
    {
     "name": "stdout",
     "output_type": "stream",
     "text": [
      "[CV] END .C=1.1462107403425035, l1_ratio=0.13949386065204183; total time= 1.7min\n"
     ]
    },
    {
     "name": "stderr",
     "output_type": "stream",
     "text": [
      "C:\\Users\\LENOVO\\AppData\\Local\\Programs\\Python\\Python312\\Lib\\site-packages\\sklearn\\linear_model\\_sag.py:349: ConvergenceWarning: The max_iter was reached which means the coef_ did not converge\n",
      "  warnings.warn(\n"
     ]
    },
    {
     "name": "stdout",
     "output_type": "stream",
     "text": [
      "[CV] END .C=1.1462107403425035, l1_ratio=0.13949386065204183; total time= 1.7min\n"
     ]
    },
    {
     "name": "stderr",
     "output_type": "stream",
     "text": [
      "C:\\Users\\LENOVO\\AppData\\Local\\Programs\\Python\\Python312\\Lib\\site-packages\\sklearn\\linear_model\\_sag.py:349: ConvergenceWarning: The max_iter was reached which means the coef_ did not converge\n",
      "  warnings.warn(\n"
     ]
    },
    {
     "name": "stdout",
     "output_type": "stream",
     "text": [
      "[CV] END .C=1.1462107403425035, l1_ratio=0.13949386065204183; total time= 1.8min\n",
      "[CV] END C=0.028888383623653185, l1_ratio=0.3663618432936917; total time= 1.0min\n",
      "[CV] END C=0.028888383623653185, l1_ratio=0.3663618432936917; total time= 1.2min\n",
      "[CV] END C=0.028888383623653185, l1_ratio=0.3663618432936917; total time=  42.4s\n",
      "[CV] END C=0.028888383623653185, l1_ratio=0.3663618432936917; total time=  51.4s\n",
      "[CV] END C=0.028888383623653185, l1_ratio=0.3663618432936917; total time=  58.6s\n"
     ]
    },
    {
     "name": "stderr",
     "output_type": "stream",
     "text": [
      "C:\\Users\\LENOVO\\AppData\\Local\\Programs\\Python\\Python312\\Lib\\site-packages\\sklearn\\linear_model\\_sag.py:349: ConvergenceWarning: The max_iter was reached which means the coef_ did not converge\n",
      "  warnings.warn(\n"
     ]
    },
    {
     "name": "stdout",
     "output_type": "stream",
     "text": [
      "[CV] END .C=0.19069966103000435, l1_ratio=0.7851759613930136; total time= 1.5min\n"
     ]
    },
    {
     "name": "stderr",
     "output_type": "stream",
     "text": [
      "C:\\Users\\LENOVO\\AppData\\Local\\Programs\\Python\\Python312\\Lib\\site-packages\\sklearn\\linear_model\\_sag.py:349: ConvergenceWarning: The max_iter was reached which means the coef_ did not converge\n",
      "  warnings.warn(\n"
     ]
    },
    {
     "name": "stdout",
     "output_type": "stream",
     "text": [
      "[CV] END .C=0.19069966103000435, l1_ratio=0.7851759613930136; total time= 1.5min\n"
     ]
    },
    {
     "name": "stderr",
     "output_type": "stream",
     "text": [
      "C:\\Users\\LENOVO\\AppData\\Local\\Programs\\Python\\Python312\\Lib\\site-packages\\sklearn\\linear_model\\_sag.py:349: ConvergenceWarning: The max_iter was reached which means the coef_ did not converge\n",
      "  warnings.warn(\n"
     ]
    },
    {
     "name": "stdout",
     "output_type": "stream",
     "text": [
      "[CV] END .C=0.19069966103000435, l1_ratio=0.7851759613930136; total time= 1.3min\n"
     ]
    },
    {
     "name": "stderr",
     "output_type": "stream",
     "text": [
      "C:\\Users\\LENOVO\\AppData\\Local\\Programs\\Python\\Python312\\Lib\\site-packages\\sklearn\\linear_model\\_sag.py:349: ConvergenceWarning: The max_iter was reached which means the coef_ did not converge\n",
      "  warnings.warn(\n"
     ]
    },
    {
     "name": "stdout",
     "output_type": "stream",
     "text": [
      "[CV] END .C=0.19069966103000435, l1_ratio=0.7851759613930136; total time= 1.6min\n"
     ]
    },
    {
     "name": "stderr",
     "output_type": "stream",
     "text": [
      "C:\\Users\\LENOVO\\AppData\\Local\\Programs\\Python\\Python312\\Lib\\site-packages\\sklearn\\linear_model\\_sag.py:349: ConvergenceWarning: The max_iter was reached which means the coef_ did not converge\n",
      "  warnings.warn(\n"
     ]
    },
    {
     "name": "stdout",
     "output_type": "stream",
     "text": [
      "[CV] END .C=0.19069966103000435, l1_ratio=0.7851759613930136; total time= 1.5min\n",
      "[CV] END C=0.009962513222055111, l1_ratio=0.5142344384136116; total time=  20.4s\n",
      "[CV] END C=0.009962513222055111, l1_ratio=0.5142344384136116; total time=  19.2s\n",
      "[CV] END C=0.009962513222055111, l1_ratio=0.5142344384136116; total time=  18.9s\n",
      "[CV] END C=0.009962513222055111, l1_ratio=0.5142344384136116; total time=  26.4s\n",
      "[CV] END C=0.009962513222055111, l1_ratio=0.5142344384136116; total time=  16.3s\n"
     ]
    },
    {
     "name": "stderr",
     "output_type": "stream",
     "text": [
      "C:\\Users\\LENOVO\\AppData\\Local\\Programs\\Python\\Python312\\Lib\\site-packages\\sklearn\\linear_model\\_sag.py:349: ConvergenceWarning: The max_iter was reached which means the coef_ did not converge\n",
      "  warnings.warn(\n"
     ]
    },
    {
     "name": "stdout",
     "output_type": "stream",
     "text": [
      "[CV] END C=0.9163741808778786, l1_ratio=0.046450412719997725; total time= 1.7min\n"
     ]
    },
    {
     "name": "stderr",
     "output_type": "stream",
     "text": [
      "C:\\Users\\LENOVO\\AppData\\Local\\Programs\\Python\\Python312\\Lib\\site-packages\\sklearn\\linear_model\\_sag.py:349: ConvergenceWarning: The max_iter was reached which means the coef_ did not converge\n",
      "  warnings.warn(\n"
     ]
    },
    {
     "name": "stdout",
     "output_type": "stream",
     "text": [
      "[CV] END C=0.9163741808778786, l1_ratio=0.046450412719997725; total time= 1.7min\n"
     ]
    },
    {
     "name": "stderr",
     "output_type": "stream",
     "text": [
      "C:\\Users\\LENOVO\\AppData\\Local\\Programs\\Python\\Python312\\Lib\\site-packages\\sklearn\\linear_model\\_sag.py:349: ConvergenceWarning: The max_iter was reached which means the coef_ did not converge\n",
      "  warnings.warn(\n"
     ]
    },
    {
     "name": "stdout",
     "output_type": "stream",
     "text": [
      "[CV] END C=0.9163741808778786, l1_ratio=0.046450412719997725; total time= 1.8min\n"
     ]
    },
    {
     "name": "stderr",
     "output_type": "stream",
     "text": [
      "C:\\Users\\LENOVO\\AppData\\Local\\Programs\\Python\\Python312\\Lib\\site-packages\\sklearn\\linear_model\\_sag.py:349: ConvergenceWarning: The max_iter was reached which means the coef_ did not converge\n",
      "  warnings.warn(\n"
     ]
    },
    {
     "name": "stdout",
     "output_type": "stream",
     "text": [
      "[CV] END C=0.9163741808778786, l1_ratio=0.046450412719997725; total time= 1.8min\n"
     ]
    },
    {
     "name": "stderr",
     "output_type": "stream",
     "text": [
      "C:\\Users\\LENOVO\\AppData\\Local\\Programs\\Python\\Python312\\Lib\\site-packages\\sklearn\\linear_model\\_sag.py:349: ConvergenceWarning: The max_iter was reached which means the coef_ did not converge\n",
      "  warnings.warn(\n"
     ]
    },
    {
     "name": "stdout",
     "output_type": "stream",
     "text": [
      "[CV] END C=0.9163741808778786, l1_ratio=0.046450412719997725; total time= 1.8min\n"
     ]
    },
    {
     "name": "stderr",
     "output_type": "stream",
     "text": [
      "C:\\Users\\LENOVO\\AppData\\Local\\Programs\\Python\\Python312\\Lib\\site-packages\\sklearn\\linear_model\\_sag.py:349: ConvergenceWarning: The max_iter was reached which means the coef_ did not converge\n",
      "  warnings.warn(\n"
     ]
    },
    {
     "name": "stdout",
     "output_type": "stream",
     "text": [
      "[CV] END .C=1.0907475835157696, l1_ratio=0.17052412368729153; total time= 1.7min\n"
     ]
    },
    {
     "name": "stderr",
     "output_type": "stream",
     "text": [
      "C:\\Users\\LENOVO\\AppData\\Local\\Programs\\Python\\Python312\\Lib\\site-packages\\sklearn\\linear_model\\_sag.py:349: ConvergenceWarning: The max_iter was reached which means the coef_ did not converge\n",
      "  warnings.warn(\n"
     ]
    },
    {
     "name": "stdout",
     "output_type": "stream",
     "text": [
      "[CV] END .C=1.0907475835157696, l1_ratio=0.17052412368729153; total time= 1.6min\n"
     ]
    },
    {
     "name": "stderr",
     "output_type": "stream",
     "text": [
      "C:\\Users\\LENOVO\\AppData\\Local\\Programs\\Python\\Python312\\Lib\\site-packages\\sklearn\\linear_model\\_sag.py:349: ConvergenceWarning: The max_iter was reached which means the coef_ did not converge\n",
      "  warnings.warn(\n"
     ]
    },
    {
     "name": "stdout",
     "output_type": "stream",
     "text": [
      "[CV] END .C=1.0907475835157696, l1_ratio=0.17052412368729153; total time= 1.9min\n"
     ]
    },
    {
     "name": "stderr",
     "output_type": "stream",
     "text": [
      "C:\\Users\\LENOVO\\AppData\\Local\\Programs\\Python\\Python312\\Lib\\site-packages\\sklearn\\linear_model\\_sag.py:349: ConvergenceWarning: The max_iter was reached which means the coef_ did not converge\n",
      "  warnings.warn(\n"
     ]
    },
    {
     "name": "stdout",
     "output_type": "stream",
     "text": [
      "[CV] END .C=1.0907475835157696, l1_ratio=0.17052412368729153; total time= 1.7min\n"
     ]
    },
    {
     "name": "stderr",
     "output_type": "stream",
     "text": [
      "C:\\Users\\LENOVO\\AppData\\Local\\Programs\\Python\\Python312\\Lib\\site-packages\\sklearn\\linear_model\\_sag.py:349: ConvergenceWarning: The max_iter was reached which means the coef_ did not converge\n",
      "  warnings.warn(\n"
     ]
    },
    {
     "name": "stdout",
     "output_type": "stream",
     "text": [
      "[CV] END .C=1.0907475835157696, l1_ratio=0.17052412368729153; total time= 1.7min\n",
      "[CV] END C=0.0021147447960615704, l1_ratio=0.9488855372533332; total time=   5.1s\n",
      "[CV] END C=0.0021147447960615704, l1_ratio=0.9488855372533332; total time=   5.2s\n",
      "[CV] END C=0.0021147447960615704, l1_ratio=0.9488855372533332; total time=   4.2s\n",
      "[CV] END C=0.0021147447960615704, l1_ratio=0.9488855372533332; total time=   3.4s\n",
      "[CV] END C=0.0021147447960615704, l1_ratio=0.9488855372533332; total time=   3.7s\n"
     ]
    },
    {
     "name": "stderr",
     "output_type": "stream",
     "text": [
      "C:\\Users\\LENOVO\\AppData\\Local\\Programs\\Python\\Python312\\Lib\\site-packages\\sklearn\\linear_model\\_sag.py:349: ConvergenceWarning: The max_iter was reached which means the coef_ did not converge\n",
      "  warnings.warn(\n"
     ]
    },
    {
     "name": "stdout",
     "output_type": "stream",
     "text": [
      "[CV] END ...C=67.32248920775338, l1_ratio=0.8083973481164611; total time= 1.8min\n"
     ]
    },
    {
     "name": "stderr",
     "output_type": "stream",
     "text": [
      "C:\\Users\\LENOVO\\AppData\\Local\\Programs\\Python\\Python312\\Lib\\site-packages\\sklearn\\linear_model\\_sag.py:349: ConvergenceWarning: The max_iter was reached which means the coef_ did not converge\n",
      "  warnings.warn(\n"
     ]
    },
    {
     "name": "stdout",
     "output_type": "stream",
     "text": [
      "[CV] END ...C=67.32248920775338, l1_ratio=0.8083973481164611; total time= 1.7min\n"
     ]
    },
    {
     "name": "stderr",
     "output_type": "stream",
     "text": [
      "C:\\Users\\LENOVO\\AppData\\Local\\Programs\\Python\\Python312\\Lib\\site-packages\\sklearn\\linear_model\\_sag.py:349: ConvergenceWarning: The max_iter was reached which means the coef_ did not converge\n",
      "  warnings.warn(\n"
     ]
    },
    {
     "name": "stdout",
     "output_type": "stream",
     "text": [
      "[CV] END ...C=67.32248920775338, l1_ratio=0.8083973481164611; total time= 1.8min\n"
     ]
    },
    {
     "name": "stderr",
     "output_type": "stream",
     "text": [
      "C:\\Users\\LENOVO\\AppData\\Local\\Programs\\Python\\Python312\\Lib\\site-packages\\sklearn\\linear_model\\_sag.py:349: ConvergenceWarning: The max_iter was reached which means the coef_ did not converge\n",
      "  warnings.warn(\n"
     ]
    },
    {
     "name": "stdout",
     "output_type": "stream",
     "text": [
      "[CV] END ...C=67.32248920775338, l1_ratio=0.8083973481164611; total time= 1.8min\n"
     ]
    },
    {
     "name": "stderr",
     "output_type": "stream",
     "text": [
      "C:\\Users\\LENOVO\\AppData\\Local\\Programs\\Python\\Python312\\Lib\\site-packages\\sklearn\\linear_model\\_sag.py:349: ConvergenceWarning: The max_iter was reached which means the coef_ did not converge\n",
      "  warnings.warn(\n"
     ]
    },
    {
     "name": "stdout",
     "output_type": "stream",
     "text": [
      "[CV] END ...C=67.32248920775338, l1_ratio=0.8083973481164611; total time= 1.9min\n",
      "[CV] END C=0.03334792728637585, l1_ratio=0.09767211400638387; total time= 1.1min\n",
      "[CV] END C=0.03334792728637585, l1_ratio=0.09767211400638387; total time= 1.2min\n",
      "[CV] END C=0.03334792728637585, l1_ratio=0.09767211400638387; total time=  56.3s\n",
      "[CV] END C=0.03334792728637585, l1_ratio=0.09767211400638387; total time=  53.6s\n",
      "[CV] END C=0.03334792728637585, l1_ratio=0.09767211400638387; total time= 1.1min\n"
     ]
    },
    {
     "name": "stderr",
     "output_type": "stream",
     "text": [
      "C:\\Users\\LENOVO\\AppData\\Local\\Programs\\Python\\Python312\\Lib\\site-packages\\sklearn\\linear_model\\_sag.py:349: ConvergenceWarning: The max_iter was reached which means the coef_ did not converge\n",
      "  warnings.warn(\n"
     ]
    },
    {
     "name": "stdout",
     "output_type": "stream",
     "text": [
      "[CV] END ..C=2.6373339933815254, l1_ratio=0.4401524937396013; total time= 1.5min\n"
     ]
    },
    {
     "name": "stderr",
     "output_type": "stream",
     "text": [
      "C:\\Users\\LENOVO\\AppData\\Local\\Programs\\Python\\Python312\\Lib\\site-packages\\sklearn\\linear_model\\_sag.py:349: ConvergenceWarning: The max_iter was reached which means the coef_ did not converge\n",
      "  warnings.warn(\n"
     ]
    },
    {
     "name": "stdout",
     "output_type": "stream",
     "text": [
      "[CV] END ..C=2.6373339933815254, l1_ratio=0.4401524937396013; total time= 1.4min\n"
     ]
    },
    {
     "name": "stderr",
     "output_type": "stream",
     "text": [
      "C:\\Users\\LENOVO\\AppData\\Local\\Programs\\Python\\Python312\\Lib\\site-packages\\sklearn\\linear_model\\_sag.py:349: ConvergenceWarning: The max_iter was reached which means the coef_ did not converge\n",
      "  warnings.warn(\n"
     ]
    },
    {
     "name": "stdout",
     "output_type": "stream",
     "text": [
      "[CV] END ..C=2.6373339933815254, l1_ratio=0.4401524937396013; total time= 1.4min\n"
     ]
    },
    {
     "name": "stderr",
     "output_type": "stream",
     "text": [
      "C:\\Users\\LENOVO\\AppData\\Local\\Programs\\Python\\Python312\\Lib\\site-packages\\sklearn\\linear_model\\_sag.py:349: ConvergenceWarning: The max_iter was reached which means the coef_ did not converge\n",
      "  warnings.warn(\n"
     ]
    },
    {
     "name": "stdout",
     "output_type": "stream",
     "text": [
      "[CV] END ..C=2.6373339933815254, l1_ratio=0.4401524937396013; total time= 1.4min\n"
     ]
    },
    {
     "name": "stderr",
     "output_type": "stream",
     "text": [
      "C:\\Users\\LENOVO\\AppData\\Local\\Programs\\Python\\Python312\\Lib\\site-packages\\sklearn\\linear_model\\_sag.py:349: ConvergenceWarning: The max_iter was reached which means the coef_ did not converge\n",
      "  warnings.warn(\n"
     ]
    },
    {
     "name": "stdout",
     "output_type": "stream",
     "text": [
      "[CV] END ..C=2.6373339933815254, l1_ratio=0.4401524937396013; total time= 1.5min\n",
      "Hyperparameter Tuning Logistic Regression selesai.\n"
     ]
    }
   ],
   "source": [
    "random_search_log_reg.fit(X_train_fit_for_tuning, y_train_fit_for_tuning)\n",
    "print(\"Hyperparameter Tuning Logistic Regression selesai.\")"
   ]
  },
  {
   "cell_type": "markdown",
   "id": "f9ae0e30-8620-4710-b5ca-6cea82bdf843",
   "metadata": {},
   "source": [
    "##### 6. Hasil Tuning Terbaik"
   ]
  },
  {
   "cell_type": "code",
   "execution_count": 12,
   "id": "52be253b-d8e9-4ba6-be50-ca429be35f52",
   "metadata": {},
   "outputs": [
    {
     "name": "stdout",
     "output_type": "stream",
     "text": [
      "\n",
      "--- 6. Hasil Tuning Logistic Regression ---\n",
      "Best parameters found:  {'C': np.float64(0.009962513222055111), 'l1_ratio': np.float64(0.5142344384136116)}\n",
      "Best ROC AUC score (on sample data, cross-validated):  0.7436315240381866\n"
     ]
    }
   ],
   "source": [
    "print(\"\\n--- 6. Hasil Tuning Logistic Regression ---\")\n",
    "best_params = random_search_log_reg.best_params_\n",
    "best_cv_auc = random_search_log_reg.best_score_\n",
    "print(\"Best parameters found: \", best_params)\n",
    "print(\"Best ROC AUC score (on sample data, cross-validated): \", best_cv_auc)\n"
   ]
  },
  {
   "cell_type": "markdown",
   "id": "b51541db-6152-4205-83dc-72db72ad6258",
   "metadata": {},
   "source": [
    "##### 7. Visualisasi ROC-AUC Dari Model Terbaik Pada Validasi Sample"
   ]
  },
  {
   "cell_type": "code",
   "execution_count": 13,
   "id": "32a2ccec-5edf-48ca-bf64-30c885579b57",
   "metadata": {},
   "outputs": [
    {
     "name": "stdout",
     "output_type": "stream",
     "text": [
      "\n",
      "--- 7. Visualisasi ROC AUC ---\n",
      "ROC AUC Score on specific validation set for plot: 0.7295\n"
     ]
    },
    {
     "data": {
      "image/png": "[encoded data removed]",
      "text/plain": [
       "<Figure size 800x600 with 1 Axes>"
      ]
     },
     "metadata": {},
     "output_type": "display_data"
    }
   ],
   "source": [
    "print(\"\\n--- 7. Visualisasi ROC AUC ---\")\n",
    "\n",
    "y_val_pred_proba = random_search_log_reg.best_estimator_.predict_proba(X_val_fit_for_tuning)[:, 1]\n",
    "\n",
    "# Hitung False Positive Rate (FPR), True Positive Rate (TPR), dan Thresholds\n",
    "fpr, tpr, thresholds = roc_curve(y_val_fit_for_tuning, y_val_pred_proba)\n",
    "\n",
    "# Hitung Area Under the Curve (AUC) untuk kurva yang diplot\n",
    "roc_auc_for_plot = auc(fpr, tpr)\n",
    "\n",
    "print(f\"ROC AUC Score on specific validation set for plot: {roc_auc_for_plot:.4f}\")\n",
    "\n",
    "# Plot Kurva ROC\n",
    "plt.figure(figsize=(8, 6))\n",
    "plt.plot(fpr, tpr, color='darkorange', lw=2,\n",
    "         label=f'ROC curve (AUC on Val Set = {roc_auc_for_plot:.4f})')\n",
    "plt.plot([0, 1], [0, 1], color='navy', lw=2, linestyle='--', label='Random Classifier')\n",
    "\n",
    "plt.xlim([0.0, 1.0])\n",
    "plt.ylim([0.0, 1.05])\n",
    "plt.xlabel('False Positive Rate (FPR)')\n",
    "plt.ylabel('True Positive Rate (TPR)')\n",
    "plt.title(f'Receiver Operating Characteristic (ROC) Curve (Logistic Regression)\\n'\n",
    "          f'Best Cross-Validated AUC (from Tuning): {best_cv_auc:.4f}\\n')\n",
    "plt.legend(loc='lower right')\n",
    "plt.grid(True)\n",
    "plt.show()"
   ]
  },
  {
   "cell_type": "markdown",
   "id": "f0326f10-dab8-4db3-a3ea-a08a045a299e",
   "metadata": {},
   "source": [
    "##### 8. Melatih Model Logistic Regression Final Pada Seluruh Data Train"
   ]
  },
  {
   "cell_type": "code",
   "execution_count": 14,
   "id": "4e0a52ef-3a73-4dac-9398-4a0b7b25dbc3",
   "metadata": {},
   "outputs": [
    {
     "name": "stdout",
     "output_type": "stream",
     "text": [
      "\n",
      "--- 8. Melatih Model Logistic Regression Final pada SELURUH Data Training ---\n",
      "Memulai pelatihan model final pada X_train.shape: (29829, 594)\n"
     ]
    },
    {
     "name": "stderr",
     "output_type": "stream",
     "text": [
      "C:\\Users\\LENOVO\\AppData\\Local\\Programs\\Python\\Python312\\Lib\\site-packages\\sklearn\\linear_model\\_sag.py:349: ConvergenceWarning: The max_iter was reached which means the coef_ did not converge\n",
      "  warnings.warn(\n"
     ]
    },
    {
     "name": "stdout",
     "output_type": "stream",
     "text": [
      "Pelatihan model final selesai.\n"
     ]
    },
    {
     "data": {
      "text/plain": [
       "3156"
      ]
     },
     "execution_count": 14,
     "metadata": {},
     "output_type": "execute_result"
    }
   ],
   "source": [
    "print(\"\\n--- 8. Melatih Model Logistic Regression Final pada SELURUH Data Training ---\")\n",
    "\n",
    "# Inisialisasi model Logistic Regression baru dengan parameter terbaik\n",
    "final_log_reg_model = LogisticRegression(\n",
    "    solver='saga',\n",
    "    penalty='elasticnet',\n",
    "    random_state=42,\n",
    "    n_jobs=-1,\n",
    "    max_iter=20,\n",
    "    class_weight='balanced', \n",
    "    **best_params \n",
    ")\n",
    "\n",
    "# Latih model final pada SELURUH data training (X_train dan y_train)\n",
    "print(f\"Memulai pelatihan model final pada X_train.shape: {X_train.shape}\")\n",
    "final_log_reg_model.fit(X_train, y_train)\n",
    "print(\"Pelatihan model final selesai.\")\n",
    "gc.collect()"
   ]
  },
  {
   "cell_type": "markdown",
   "id": "20866c34-f27f-431b-b3c3-40b062fa336f",
   "metadata": {},
   "source": [
    "##### 9. Membuat Prediksi Data Uji (Test Data) dengan Model Final"
   ]
  },
  {
   "cell_type": "code",
   "execution_count": 15,
   "id": "69dc131d-f649-42c7-9e6b-332d9449a23e",
   "metadata": {},
   "outputs": [
    {
     "name": "stdout",
     "output_type": "stream",
     "text": [
      "\n",
      "--- 9. Membuat Prediksi pada Data Uji dengan Model Final ---\n",
      "Prediksi pada data uji selesai.\n"
     ]
    }
   ],
   "source": [
    "print(\"\\n--- 9. Membuat Prediksi pada Data Uji dengan Model Final ---\")\n",
    "test_preds = final_log_reg_model.predict_proba(X_test)[:, 1]\n",
    "print(\"Prediksi pada data uji selesai.\")"
   ]
  },
  {
   "cell_type": "markdown",
   "id": "d3d49ba7-cba0-40bf-ac50-64c9699a1366",
   "metadata": {},
   "source": [
    "##### 10. Membuat File Submission"
   ]
  },
  {
   "cell_type": "code",
   "execution_count": 17,
   "id": "ec830b50-d2c7-45f7-ac72-679af6db9f6b",
   "metadata": {},
   "outputs": [
    {
     "name": "stdout",
     "output_type": "stream",
     "text": [
      "\n",
      "--- 10. Membuat File Submission ---\n",
      "\n",
      "File submission 'submission_logistic.csv' berhasil dibuat.\n"
     ]
    }
   ],
   "source": [
    "print(\"\\n--- 10. Membuat File Submission ---\")\n",
    "submission_df = pd.DataFrame({'SK_ID_CURR': test_ids, 'TARGET': test_preds})\n",
    "submission_filename = 'submission_logistic.csv'\n",
    "submission_df.to_csv(submission_filename, index=False)\n",
    "print(f\"\\nFile submission '{submission_filename}' berhasil dibuat.\")"
   ]
  },
  {
   "cell_type": "code",
   "execution_count": 18,
   "id": "bd150a45-dfb5-4908-bbb3-5b56324417df",
   "metadata": {},
   "outputs": [
    {
     "name": "stdout",
     "output_type": "stream",
     "text": [
      "Menggunakan threshold = 0.5 untuk mengklasifikasikan probabilitas.\n",
      "\n",
      "Jumlah prediksi untuk setiap kelas:\n",
      "PREDICTED_CLASS\n",
      "0    32630\n",
      "1    16114\n",
      "Name: count, dtype: int64\n",
      "\n",
      "Persentase prediksi untuk setiap kelas:\n",
      "PREDICTED_CLASS\n",
      "0    66.94\n",
      "1    33.06\n",
      "Name: proportion, dtype: float64\n"
     ]
    },
    {
     "name": "stderr",
     "output_type": "stream",
     "text": [
      "C:\\Users\\LENOVO\\AppData\\Local\\Temp\\ipykernel_13228\\4162496940.py:20: FutureWarning: \n",
      "\n",
      "Passing `palette` without assigning `hue` is deprecated and will be removed in v0.14.0. Assign the `x` variable to `hue` and set `legend=False` for the same effect.\n",
      "\n",
      "  sns.barplot(x=class_counts.index, y=class_counts.values, palette='viridis')\n"
     ]
    },
    {
     "data": {
      "image/png": "[encoded data removed]",
      "text/plain": [
       "<Figure size 800x600 with 1 Axes>"
      ]
     },
     "metadata": {},
     "output_type": "display_data"
    },
    {
     "data": {
      "image/png": "[encoded data removed]",
      "text/plain": [
       "<Figure size 500x500 with 1 Axes>"
      ]
     },
     "metadata": {},
     "output_type": "display_data"
    }
   ],
   "source": [
    "import seaborn as sns \n",
    "\n",
    "threshold = 0.5\n",
    "print(f\"Menggunakan threshold = {threshold} untuk mengklasifikasikan probabilitas.\")\n",
    "\n",
    "# Buat Kolom 'PREDICTED_CLASS' \n",
    "submission_df['PREDICTED_CLASS'] = (submission_df['TARGET'] > threshold).astype(int)\n",
    "\n",
    "# Hitung Jumlah Kemunculan Setiap Kelas\n",
    "class_counts = submission_df['PREDICTED_CLASS'].value_counts().sort_index()\n",
    "class_percentages = submission_df['PREDICTED_CLASS'].value_counts(normalize=True).sort_index() * 100\n",
    "\n",
    "print(\"\\nJumlah prediksi untuk setiap kelas:\")\n",
    "print(class_counts)\n",
    "print(\"\\nPersentase prediksi untuk setiap kelas:\")\n",
    "print(class_percentages.round(2)) \n",
    "\n",
    "# Buat Visualisasi Bar Plot \n",
    "plt.figure(figsize=(8, 6))\n",
    "sns.barplot(x=class_counts.index, y=class_counts.values, palette='viridis')\n",
    "\n",
    "# Tambahkan label nilai \n",
    "for index, value in enumerate(class_counts.values):\n",
    "    plt.text(index, value + 0.05 * max(class_counts.values),\n",
    "             f'{value} ({class_percentages.iloc[index]:.2f}%)',\n",
    "             ha='center', va='bottom', fontsize=10)\n",
    "\n",
    "plt.title(f'Distribusi Kelas Prediksi (Threshold = {threshold})', fontsize=14)\n",
    "plt.xlabel('Kelas Prediksi (0 = Non-Default, 1 = Default)', fontsize=12)\n",
    "plt.ylabel('Jumlah Data', fontsize=12)\n",
    "plt.xticks([0, 1])\n",
    "plt.grid(axis='y', linestyle='--', alpha=0.7)\n",
    "plt.tight_layout()\n",
    "plt.show()\n",
    "\n",
    "# Visualisasi Pie Chart\n",
    "plt.figure(figsize=(5,5))\n",
    "plt.pie(class_counts, labels=['0 (Tidak Gagal Bayar)', '1 (Gagal Bayar)'],\n",
    "        autopct='%1.1f%%', startangle=90, colors=['steelblue','seagreen'], explode=(0, 0.1))\n",
    "plt.title('Proporsi Kelas Target (TARGET)', fontsize=16)\n",
    "plt.axis('equal') \n",
    "plt.show()"
   ]
  },
  {
   "cell_type": "code",
   "execution_count": 19,
   "id": "0bb6b2fb-9b2b-4f5f-af14-7b09571b5130",
   "metadata": {},
   "outputs": [
    {
     "name": "stdout",
     "output_type": "stream",
     "text": [
      "\n",
      "Menghitung metrik dengan ambang batas (threshold) = 0.5\n",
      "Accuracy:  0.7027\n",
      "Precision: 0.1610\n",
      "Recall:    0.6460\n",
      "F1-Score:  0.2578\n",
      "ROC AUC:   0.7295\n"
     ]
    },
    {
     "data": {
      "image/png": "[encoded data removed]",
      "text/plain": [
       "<Figure size 1000x600 with 1 Axes>"
      ]
     },
     "metadata": {},
     "output_type": "display_data"
    },
    {
     "data": {
      "image/png": "[encoded data removed]",
      "text/plain": [
       "<Figure size 1000x600 with 1 Axes>"
      ]
     },
     "metadata": {},
     "output_type": "display_data"
    }
   ],
   "source": [
    "from sklearn.metrics import precision_score, recall_score, f1_score, accuracy_score, roc_auc_score\n",
    "\n",
    "threshold = 0.5\n",
    "print(f\"\\nMenghitung metrik dengan ambang batas (threshold) = {threshold}\")\n",
    "\n",
    "# Jika probabilitas > threshold, prediksinya 1; jika tidak, 0.\n",
    "y_pred_binary = (y_val_pred_proba > threshold).astype(int)\n",
    "\n",
    "accuracy = accuracy_score(y_val_fit_for_tuning, y_pred_binary)\n",
    "precision = precision_score(y_val_fit_for_tuning, y_pred_binary)\n",
    "recall = recall_score(y_val_fit_for_tuning, y_pred_binary)\n",
    "f1 = f1_score(y_val_fit_for_tuning, y_pred_binary)\n",
    "\n",
    "roc_auc = roc_auc_score(y_val_fit_for_tuning, y_val_pred_proba)\n",
    "\n",
    "print(f\"Accuracy:  {accuracy:.4f}\")\n",
    "print(f\"Precision: {precision:.4f}\")\n",
    "print(f\"Recall:    {recall:.4f}\")\n",
    "print(f\"F1-Score:  {f1:.4f}\")\n",
    "print(f\"ROC AUC:   {roc_auc:.4f}\")\n",
    "\n",
    "## Visualisasi Trade-off Precision-Recall\n",
    "\n",
    "from sklearn.metrics import precision_recall_curve\n",
    "\n",
    "# Hitung Precision, Recall, dan Thresholds untuk berbagai titik pada kurva\n",
    "precisions, recalls, thresholds = precision_recall_curve(y_val_fit_for_tuning, y_val_pred_proba)\n",
    "\n",
    "plt.figure(figsize=(10, 6))\n",
    "plt.plot(thresholds, precisions[:-1], 'b--', label='Precision')\n",
    "plt.plot(thresholds, recalls[:-1], 'g-', label='Recall')\n",
    "plt.xlabel('Threshold')\n",
    "plt.ylabel('Score')\n",
    "plt.title('Precision and Recall vs. Threshold')\n",
    "plt.legend(loc='lower left')\n",
    "plt.grid(True)\n",
    "plt.xlim([0, 1])\n",
    "plt.ylim([0, 1])\n",
    "plt.show()\n",
    "\n",
    "# Plot Kurva Precision-Recall\n",
    "# Ini menunjukkan trade-off langsung antara Precision dan Recall\n",
    "plt.figure(figsize=(10, 6))\n",
    "plt.plot(recalls, precisions, label='Precision-Recall curve')\n",
    "plt.xlabel('Recall')\n",
    "plt.ylabel('Precision')\n",
    "plt.title('Precision-Recall Curve')\n",
    "plt.grid(True)\n",
    "plt.xlim([0, 1])\n",
    "plt.ylim([0, 1])\n",
    "plt.show()"
   ]
  },
  {
   "cell_type": "code",
   "execution_count": null,
   "id": "95125dae-cb74-4f82-a9ee-93f0c75aaa20",
   "metadata": {},
   "outputs": [],
   "source": []
  }
 ],
 "metadata": {
  "kernelspec": {
   "display_name": "Python 3 (ipykernel)",
   "language": "python",
   "name": "python3"
  },
  "language_info": {
   "codemirror_mode": {
    "name": "ipython",
    "version": 3
   },
   "file_extension": ".py",
   "mimetype": "text/x-python",
   "name": "python",
   "nbconvert_exporter": "python",
   "pygments_lexer": "ipython3",
   "version": "3.12.4"
  }
 },
 "nbformat": 4,
 "nbformat_minor": 5
}
